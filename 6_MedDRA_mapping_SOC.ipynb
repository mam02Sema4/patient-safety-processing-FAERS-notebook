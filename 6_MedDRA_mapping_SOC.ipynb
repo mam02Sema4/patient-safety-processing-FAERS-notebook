{
 "cells": [
  {
   "cell_type": "markdown",
   "metadata": {},
   "source": [
    "# Group PT to SOC \n",
    "\n",
    "Dased on MedDRA hierarchy.\n",
    "\n",
    "PT (preferred terms)--> HLT (high-level term) --> HLGT (high-level group term) --> SOC (system organ class)\n"
   ]
  },
  {
   "cell_type": "markdown",
   "metadata": {},
   "source": [
    "## Build MedDRA_dic in dataframe\n"
   ]
  },
  {
   "cell_type": "code",
   "execution_count": 2,
   "metadata": {},
   "outputs": [],
   "source": [
    "from tqdm import tqdm"
   ]
  },
  {
   "cell_type": "code",
   "execution_count": 3,
   "metadata": {},
   "outputs": [
    {
     "name": "stderr",
     "output_type": "stream",
     "text": [
      "\r",
      "  0%|          | 0/24313 [00:00<?, ?it/s]"
     ]
    },
    {
     "name": "stdout",
     "output_type": "stream",
     "text": [
      "workting on ../Data/MedDRA/soc_hlgt.asc\n",
      "workting on ../Data/MedDRA/hlgt_hlt.asc\n",
      "workting on ../Data/MedDRA/hlt_pt.asc\n"
     ]
    },
    {
     "name": "stderr",
     "output_type": "stream",
     "text": [
      "100%|██████████| 24313/24313 [00:59<00:00, 409.98it/s]\n"
     ]
    },
    {
     "data": {
      "text/plain": [
       "((24313, 9),\n",
       " 'investigations',\n",
       " 'microbiology and serology investigations',\n",
       " 'sars-cov-2 test false negative',\n",
       " 'virus identification and serology')"
      ]
     },
     "execution_count": 3,
     "metadata": {},
     "output_type": "execute_result"
    }
   ],
   "source": [
    "# read the MedDRA dics\n",
    "\n",
    "import codecs\n",
    "\"\"\"the key is code in string, the value is textual string\"\"\"\n",
    "path_list = ['soc', 'hlgt', 'hlt', 'pt'] #\n",
    "for i in range(len(path_list)):\n",
    "    dic = {}\n",
    "    path = '../Data/MedDRA/' + path_list[i] + '.asc'\n",
    "    with codecs.open(path, encoding='utf-8-sig') as f:\n",
    "        for line in f:\n",
    "            s = line.split('$')\n",
    "            if path_list[i] == 'soc':\n",
    "                dic[s[0]] = [s[1].lower(), s[2]]\n",
    "            else:\n",
    "                dic[s[0]] = s[1].lower()\n",
    "    locals()[path_list[i] +'_dic'] = dic\n",
    "\n",
    "\n",
    "soc_dic['10017947'][1], soc_dic, len(soc_dic)\n",
    "\n",
    "path_list = ['soc', 'hlgt', 'hlt', 'pt'] #, 'hlt', 'pt'\n",
    "for i in range(len(path_list)-1):\n",
    "    dic = {}\n",
    "    path = '../Data/MedDRA/' + path_list[i] +'_' +path_list[i+1] + '.asc'\n",
    "    print('workting on', path)\n",
    "    with codecs.open(path, encoding='utf-8-sig') as f:\n",
    "        for line in f:\n",
    "            s = line.split('$')\n",
    "            dic[s[1]] = s[0].lower()\n",
    "    locals()[path_list[i+1]+'_' +path_list[i] +'_dic'] = dic\n",
    "\"\"\"In the generated dic, the key is low level code(e.g., PT), the value is high-level code(e.g., hlt)\"\"\"\n",
    "\n",
    "\"\"\"Build a big dataframe contains all PT, HLT, HLGT, SOC codes and their names\"\"\"\n",
    "MedDRA_dic_all = pd.DataFrame()\n",
    "column_name = ['PT', 'PT_name', 'HLT', 'HLT_name', 'HLGT', 'HLGT_name', 'SOC', 'SOC_name', 'SOC_abbr']\n",
    "for key, value in tqdm(pt_dic.items()):\n",
    "    hlt = pt_hlt_dic[key]  # find the corresponding hlt and hlt_name\n",
    "    hlt_name = hlt_dic[hlt]\n",
    "    hlgt = hlt_hlgt_dic[hlt]\n",
    "    hlgt_name = hlgt_dic[hlgt]\n",
    "    soc = hlgt_soc_dic[hlgt]\n",
    "    soc_name = soc_dic[soc][0]\n",
    "    soc_abbr = soc_dic[soc][1]\n",
    "    lll = [key, value.lower(), hlt, hlt_name.lower(), hlgt, hlgt_name.lower(), soc, soc_name.lower(), soc_abbr]    \n",
    "    \n",
    "    \n",
    "    lll_df = pd.DataFrame(np.array(lll).reshape(1,9),columns=column_name)\n",
    "    MedDRA_dic_all = pd.concat([MedDRA_dic_all, lll_df])\n",
    "\n",
    "pickle.dump(MedDRA_dic_all,  open('../Data/high_order/dic/MedDRA_dic_all.pk', 'wb'))\n",
    "\n",
    "MedDRA_dic_all.shape, soc_name,hlgt_name, value, hlt_name"
   ]
  },
  {
   "cell_type": "markdown",
   "metadata": {},
   "source": [
    "### Build MedDRA_dic in dictionary\n"
   ]
  },
  {
   "cell_type": "code",
   "execution_count": 4,
   "metadata": {},
   "outputs": [
    {
     "data": {
      "text/html": [
       "<div>\n",
       "<style scoped>\n",
       "    .dataframe tbody tr th:only-of-type {\n",
       "        vertical-align: middle;\n",
       "    }\n",
       "\n",
       "    .dataframe tbody tr th {\n",
       "        vertical-align: top;\n",
       "    }\n",
       "\n",
       "    .dataframe thead th {\n",
       "        text-align: right;\n",
       "    }\n",
       "</style>\n",
       "<table border=\"1\" class=\"dataframe\">\n",
       "  <thead>\n",
       "    <tr style=\"text-align: right;\">\n",
       "      <th></th>\n",
       "      <th>PT</th>\n",
       "      <th>PT_name</th>\n",
       "      <th>HLT</th>\n",
       "      <th>HLT_name</th>\n",
       "      <th>HLGT</th>\n",
       "      <th>HLGT_name</th>\n",
       "      <th>SOC</th>\n",
       "      <th>SOC_name</th>\n",
       "      <th>SOC_abbr</th>\n",
       "    </tr>\n",
       "  </thead>\n",
       "  <tbody>\n",
       "    <tr>\n",
       "      <th>0</th>\n",
       "      <td>10000002</td>\n",
       "      <td>11-beta-hydroxylase deficiency</td>\n",
       "      <td>10021608</td>\n",
       "      <td>inborn errors of steroid synthesis</td>\n",
       "      <td>10027424</td>\n",
       "      <td>metabolic and nutritional disorders congenital</td>\n",
       "      <td>10010331</td>\n",
       "      <td>congenital, familial and genetic disorders</td>\n",
       "      <td>Cong</td>\n",
       "    </tr>\n",
       "    <tr>\n",
       "      <th>0</th>\n",
       "      <td>10000005</td>\n",
       "      <td>17 ketosteroids urine</td>\n",
       "      <td>10038589</td>\n",
       "      <td>reproductive hormone analyses</td>\n",
       "      <td>10014706</td>\n",
       "      <td>endocrine investigations (incl sex hormones)</td>\n",
       "      <td>10022891</td>\n",
       "      <td>investigations</td>\n",
       "      <td>Inv</td>\n",
       "    </tr>\n",
       "    <tr>\n",
       "      <th>0</th>\n",
       "      <td>10000007</td>\n",
       "      <td>17 ketosteroids urine decreased</td>\n",
       "      <td>10038589</td>\n",
       "      <td>reproductive hormone analyses</td>\n",
       "      <td>10014706</td>\n",
       "      <td>endocrine investigations (incl sex hormones)</td>\n",
       "      <td>10022891</td>\n",
       "      <td>investigations</td>\n",
       "      <td>Inv</td>\n",
       "    </tr>\n",
       "    <tr>\n",
       "      <th>0</th>\n",
       "      <td>10000009</td>\n",
       "      <td>17 ketosteroids urine increased</td>\n",
       "      <td>10038589</td>\n",
       "      <td>reproductive hormone analyses</td>\n",
       "      <td>10014706</td>\n",
       "      <td>endocrine investigations (incl sex hormones)</td>\n",
       "      <td>10022891</td>\n",
       "      <td>investigations</td>\n",
       "      <td>Inv</td>\n",
       "    </tr>\n",
       "    <tr>\n",
       "      <th>0</th>\n",
       "      <td>10000011</td>\n",
       "      <td>17 ketosteroids urine normal</td>\n",
       "      <td>10038589</td>\n",
       "      <td>reproductive hormone analyses</td>\n",
       "      <td>10014706</td>\n",
       "      <td>endocrine investigations (incl sex hormones)</td>\n",
       "      <td>10022891</td>\n",
       "      <td>investigations</td>\n",
       "      <td>Inv</td>\n",
       "    </tr>\n",
       "  </tbody>\n",
       "</table>\n",
       "</div>"
      ],
      "text/plain": [
       "         PT                          PT_name       HLT  \\\n",
       "0  10000002   11-beta-hydroxylase deficiency  10021608   \n",
       "0  10000005            17 ketosteroids urine  10038589   \n",
       "0  10000007  17 ketosteroids urine decreased  10038589   \n",
       "0  10000009  17 ketosteroids urine increased  10038589   \n",
       "0  10000011     17 ketosteroids urine normal  10038589   \n",
       "\n",
       "                             HLT_name      HLGT  \\\n",
       "0  inborn errors of steroid synthesis  10027424   \n",
       "0       reproductive hormone analyses  10014706   \n",
       "0       reproductive hormone analyses  10014706   \n",
       "0       reproductive hormone analyses  10014706   \n",
       "0       reproductive hormone analyses  10014706   \n",
       "\n",
       "                                        HLGT_name       SOC  \\\n",
       "0  metabolic and nutritional disorders congenital  10010331   \n",
       "0    endocrine investigations (incl sex hormones)  10022891   \n",
       "0    endocrine investigations (incl sex hormones)  10022891   \n",
       "0    endocrine investigations (incl sex hormones)  10022891   \n",
       "0    endocrine investigations (incl sex hormones)  10022891   \n",
       "\n",
       "                                     SOC_name SOC_abbr  \n",
       "0  congenital, familial and genetic disorders     Cong  \n",
       "0                              investigations      Inv  \n",
       "0                              investigations      Inv  \n",
       "0                              investigations      Inv  \n",
       "0                              investigations      Inv  "
      ]
     },
     "execution_count": 4,
     "metadata": {},
     "output_type": "execute_result"
    }
   ],
   "source": [
    "MedDRA_dic_all = pickle.load(open('../Data/high_order/dic/MedDRA_dic_all.pk', 'rb'))\n",
    "MedDRA_dic_all.head()  "
   ]
  },
  {
   "cell_type": "code",
   "execution_count": 5,
   "metadata": {},
   "outputs": [
    {
     "name": "stderr",
     "output_type": "stream",
     "text": [
      "100%|██████████| 24313/24313 [00:03<00:00, 6774.97it/s]"
     ]
    },
    {
     "name": "stdout",
     "output_type": "stream",
     "text": [
      "data saved with #-PT: 24313\n"
     ]
    },
    {
     "name": "stderr",
     "output_type": "stream",
     "text": [
      "\n"
     ]
    }
   ],
   "source": [
    "MeDRA_dic = {}\n",
    "PT_list = list(MedDRA_dic_all['PT_name'])\n",
    "for i in tqdm(range(len(MedDRA_dic_all))):\n",
    "    key = PT_list[i]\n",
    "    value = list(MedDRA_dic_all.iloc[i])\n",
    "    MeDRA_dic[key] = value\n",
    "\n",
    "pickle.dump(MeDRA_dic, open('../Data/high_order/dic/MeDRA_dic.pk', 'wb'))\n",
    "print('data saved with #-PT:', len(MeDRA_dic))"
   ]
  },
  {
   "cell_type": "markdown",
   "metadata": {},
   "source": [
    "## Group our significant SE into SOC level"
   ]
  },
  {
   "cell_type": "code",
   "execution_count": 6,
   "metadata": {},
   "outputs": [],
   "source": [
    "import seaborn as sns; sns.set()\n",
    "MedDRA_dic_all = pickle.load(open('../Data/high_order/dic/MedDRA_dic_all.pk', 'rb'))"
   ]
  },
  {
   "cell_type": "code",
   "execution_count": 7,
   "metadata": {},
   "outputs": [
    {
     "name": "stdout",
     "output_type": "stream",
     "text": [
      "condition SE_uncondition_2019_sig_over\n",
      "SE_uncondition_2019_sig_over saved\n",
      "condition SE_uncondition_2019_sig_under\n",
      "SE_uncondition_2019_sig_under saved\n",
      "condition SE_male_2019_sig_over\n",
      "SE_male_2019_sig_over saved\n",
      "condition SE_male_2019_sig_under\n",
      "SE_male_2019_sig_under saved\n",
      "condition SE_female_2019_sig_over\n",
      "SE_female_2019_sig_over saved\n",
      "condition SE_female_2019_sig_under\n",
      "SE_female_2019_sig_under saved\n",
      "condition SE_young_2019_sig_over\n",
      "SE_young_2019_sig_over saved\n",
      "condition SE_young_2019_sig_under\n",
      "SE_young_2019_sig_under saved\n",
      "condition SE_adult_2019_sig_over\n",
      "SE_adult_2019_sig_over saved\n",
      "condition SE_adult_2019_sig_under\n",
      "SE_adult_2019_sig_under saved\n",
      "condition SE_elderly_2019_sig_over\n",
      "SE_elderly_2019_sig_over saved\n",
      "condition SE_elderly_2019_sig_under\n",
      "SE_elderly_2019_sig_under saved\n"
     ]
    }
   ],
   "source": [
    "# MedDRA_dic_all[MedDRA_dic_all.PT_name == row.name].SOC\n",
    "condition_list = ['SE_uncondition_2019_sig_over', 'SE_uncondition_2019_sig_under', 'SE_male_2019_sig_over', 'SE_male_2019_sig_under',\n",
    "                 'SE_female_2019_sig_over', 'SE_female_2019_sig_under', \n",
    "                 'SE_young_2019_sig_over', 'SE_young_2019_sig_under', 'SE_adult_2019_sig_over', 'SE_adult_2019_sig_under',\n",
    "                 'SE_elderly_2019_sig_over', 'SE_elderly_2019_sig_under']\n",
    "\n",
    "for condition in condition_list:      \n",
    "    print('condition', condition)\n",
    "    locals()[condition] = pickle.load(open('../Data/pandemic/results/'+condition+'.pk', 'rb'))\n",
    "    \n",
    "    \n",
    "\n",
    "    \n",
    "    locals()[condition]['SOC'] = locals()[condition].apply(lambda row: MedDRA_dic_all[MedDRA_dic_all.PT_name == row['name']].SOC, axis = 1)\n",
    "    locals()[condition]['SOC_name'] = locals()[condition].apply(lambda row: MedDRA_dic_all[MedDRA_dic_all.PT_name == row['name']].SOC_name, axis = 1)\n",
    "    locals()[condition]['SOC_abbr'] = locals()[condition].apply(lambda row: MedDRA_dic_all[MedDRA_dic_all.PT_name == row['name']].SOC_abbr, axis = 1)\n",
    "\n",
    "    #     Save the final dataframe that with SOC information\n",
    "    pickle.dump(locals()[condition],  open('../Data/pandemic/results/'+condition+'_step2.pk', 'wb'))\n",
    "    print(condition, 'saved')"
   ]
  }
 ],
 "metadata": {
  "kernelspec": {
   "display_name": "Python 3",
   "language": "python",
   "name": "python3"
  },
  "language_info": {
   "codemirror_mode": {
    "name": "ipython",
    "version": 3
   },
   "file_extension": ".py",
   "mimetype": "text/x-python",
   "name": "python",
   "nbconvert_exporter": "python",
   "pygments_lexer": "ipython3",
   "version": "3.7.4"
  },
  "toc": {
   "base_numbering": 1,
   "nav_menu": {},
   "number_sections": true,
   "sideBar": true,
   "skip_h1_title": false,
   "title_cell": "Table of Contents",
   "title_sidebar": "Contents",
   "toc_cell": false,
   "toc_position": {},
   "toc_section_display": true,
   "toc_window_display": true
  }
 },
 "nbformat": 4,
 "nbformat_minor": 4
}
