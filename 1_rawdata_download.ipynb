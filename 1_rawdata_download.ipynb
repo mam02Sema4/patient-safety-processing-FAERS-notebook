{
 "cells": [
  {
   "cell_type": "markdown",
   "metadata": {},
   "source": [
    "# Instruction\n",
    "\n",
    "The FAERS dataset is downloaded from FDA FAERS Quarterly Data Extract Files: https://fis.fda.gov/extensions/FPD-QDE-FAERS/FPD-QDE-FAERS.html. Here we show how to download the raw data effeciently. \n",
    "\n",
    "## Rawdata (.xml)\n",
    "Save the below Bash commands as a file named `downloadAll`. Change the file to \"executable\" with `chmod 755 downloadAll` , then type `./downloadAll` in terminal.\n",
    "\n",
    "*Please Note:*\n",
    "<ul>\n",
    "    <li>We use the data from 2013q1 to 2020q3.</li>\n",
    "    <li>We creat a folder for each quater, there are 1-3 xml files in each folder. [2012q4, 2018q2], each folder has 1 xml file; [2018q3, 2020q3], each folder has three xml files.</li>\n",
    "    <li>From 2020, the quarter is indicated by `Q` instead of `q` in the download link; the unzipped folder is named as `XML` instead of `xml`.</li>\n",
    "</ul>"
   ]
  },
  {
   "cell_type": "markdown",
   "metadata": {},
   "source": [
    "## Bash"
   ]
  },
  {
   "cell_type": "markdown",
   "metadata": {},
   "source": [
    "### Data download (2013-2019)"
   ]
  },
  {
   "cell_type": "markdown",
   "metadata": {},
   "source": [
    "\n",
    "\n",
    "<code>#!/bin/bash\n",
    "for yr in {2013..2019}\n",
    "do\n",
    "  for qtr in {1..4}\n",
    "  do\n",
    "    curl -ko ./${yr}q${qtr}.zip \"https://fis.fda.gov/content/Exports/faers_xml_${yr}q${qtr}.zip\"\n",
    "    mkdir ${yr}q${qtr}\n",
    "    unzip ${yr}q${qtr}.zip xml/* -d ${yr}q${qtr}/\n",
    "    rm ${yr}q${qtr}/xml/*.pdf\n",
    "  done\n",
    "done<code>"
   ]
  },
  {
   "cell_type": "markdown",
   "metadata": {},
   "source": [
    "### Data download (2020)"
   ]
  },
  {
   "cell_type": "markdown",
   "metadata": {},
   "source": [
    "<code>#!/bin/bash\n",
    "for yr in 2020\n",
    "  for qtr in {1..3}\n",
    "  do\n",
    "    curl -ko ./${yr}q${qtr}.zip \"https://fis.fda.gov/content/Exports/faers_xml_${yr}Q${qtr}.zip\"\n",
    "    mkdir ${yr}q${qtr}\n",
    "    unzip ${yr}q${qtr}.zip XML/* -d ${yr}q${qtr}/\n",
    "    rm ${yr}q${qtr}/XML/*.pdf\n",
    "  done\n",
    "done\n",
    "<code>"
   ]
  }
 ],
 "metadata": {
  "kernelspec": {
   "display_name": "Python 3",
   "language": "python",
   "name": "python3"
  },
  "language_info": {
   "codemirror_mode": {
    "name": "ipython",
    "version": 3
   },
   "file_extension": ".py",
   "mimetype": "text/x-python",
   "name": "python",
   "nbconvert_exporter": "python",
   "pygments_lexer": "ipython3",
   "version": "3.7.4"
  },
  "toc": {
   "base_numbering": 1,
   "nav_menu": {},
   "number_sections": true,
   "sideBar": true,
   "skip_h1_title": false,
   "title_cell": "Table of Contents",
   "title_sidebar": "Contents",
   "toc_cell": false,
   "toc_position": {},
   "toc_section_display": true,
   "toc_window_display": true
  }
 },
 "nbformat": 4,
 "nbformat_minor": 4
}
